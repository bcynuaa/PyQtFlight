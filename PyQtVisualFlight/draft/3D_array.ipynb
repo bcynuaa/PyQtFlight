{
 "cells": [
  {
   "cell_type": "code",
   "execution_count": 1,
   "metadata": {},
   "outputs": [],
   "source": [
    "import numpy as np"
   ]
  },
  {
   "cell_type": "code",
   "execution_count": 2,
   "metadata": {},
   "outputs": [
    {
     "data": {
      "text/plain": [
       "[array([[-0.19631471,  1.18265735,  0.01115997,  0.35394978],\n",
       "        [-0.56157284, -0.5680715 , -0.98296265,  0.34585843],\n",
       "        [-0.22428761,  1.64217638, -1.1317652 , -1.15891401],\n",
       "        [-0.72019713,  0.09260752, -0.11745142, -0.24545703],\n",
       "        [-0.17738026,  0.24016289,  0.95741487, -0.99287351]]),\n",
       " array([[-0.32503747, -1.72449159,  0.61351185, -0.88492633],\n",
       "        [ 1.28655518, -1.43862279, -0.58063132,  0.45342796],\n",
       "        [ 2.75688973, -0.00567465,  0.0905661 , -0.64504926],\n",
       "        [-1.12371857,  0.15618741, -0.78724607,  0.54342605],\n",
       "        [-0.14151782,  0.08112033,  0.36778556, -1.87403808]]),\n",
       " array([[-0.23090838, -1.13721595, -0.86147699,  1.27833749],\n",
       "        [-0.70476703, -0.27766168, -0.8706251 , -0.30448968],\n",
       "        [ 1.21921044,  0.37740295,  0.2057331 ,  0.58679055],\n",
       "        [-1.83116096,  1.00002866, -0.30624256,  0.62135573],\n",
       "        [-1.16082085,  0.30575234,  0.72810196, -0.55396841]])]"
      ]
     },
     "execution_count": 2,
     "metadata": {},
     "output_type": "execute_result"
    }
   ],
   "source": [
    "# now we have a 2D array list\n",
    "arr_list = [np.random.randn(5, 4) for i in range(3)]\n",
    "arr_list"
   ]
  },
  {
   "cell_type": "code",
   "execution_count": 3,
   "metadata": {},
   "outputs": [
    {
     "data": {
      "text/plain": [
       "array([[[-0.19631471,  1.18265735,  0.01115997,  0.35394978],\n",
       "        [-0.56157284, -0.5680715 , -0.98296265,  0.34585843],\n",
       "        [-0.22428761,  1.64217638, -1.1317652 , -1.15891401],\n",
       "        [-0.72019713,  0.09260752, -0.11745142, -0.24545703],\n",
       "        [-0.17738026,  0.24016289,  0.95741487, -0.99287351]],\n",
       "\n",
       "       [[-0.32503747, -1.72449159,  0.61351185, -0.88492633],\n",
       "        [ 1.28655518, -1.43862279, -0.58063132,  0.45342796],\n",
       "        [ 2.75688973, -0.00567465,  0.0905661 , -0.64504926],\n",
       "        [-1.12371857,  0.15618741, -0.78724607,  0.54342605],\n",
       "        [-0.14151782,  0.08112033,  0.36778556, -1.87403808]],\n",
       "\n",
       "       [[-0.23090838, -1.13721595, -0.86147699,  1.27833749],\n",
       "        [-0.70476703, -0.27766168, -0.8706251 , -0.30448968],\n",
       "        [ 1.21921044,  0.37740295,  0.2057331 ,  0.58679055],\n",
       "        [-1.83116096,  1.00002866, -0.30624256,  0.62135573],\n",
       "        [-1.16082085,  0.30575234,  0.72810196, -0.55396841]]])"
      ]
     },
     "execution_count": 3,
     "metadata": {},
     "output_type": "execute_result"
    }
   ],
   "source": [
    "# convert it to a 3D array in numpy\n",
    "a3 = np.array(arr_list)\n",
    "a3"
   ]
  },
  {
   "cell_type": "code",
   "execution_count": 4,
   "metadata": {},
   "outputs": [
    {
     "data": {
      "text/plain": [
       "array([1, 2, 3])"
      ]
     },
     "execution_count": 4,
     "metadata": {},
     "output_type": "execute_result"
    }
   ],
   "source": [
    "# give a test\n",
    "b = np.array([1,2,3])\n",
    "b"
   ]
  },
  {
   "cell_type": "code",
   "execution_count": 5,
   "metadata": {},
   "outputs": [
    {
     "data": {
      "text/plain": [
       "array([[-1.53911479, -5.67797366, -1.34624731,  2.41910957],\n",
       "       [-0.10276356, -4.27830212, -4.75610061,  0.33924531],\n",
       "       [ 8.94712316,  2.76303593, -0.33343371, -0.68864088],\n",
       "       [-8.46111715,  3.40506834, -2.61067125,  2.70546226],\n",
       "       [-3.94287847,  1.31966057,  3.87729187, -6.40285489]])"
      ]
     },
     "execution_count": 5,
     "metadata": {},
     "output_type": "execute_result"
    }
   ],
   "source": [
    "# to sum them up\n",
    "t = np.zeros([5, 4])\n",
    "for i in range(3):\n",
    "    t += b[i] * arr_list[i]\n",
    "    pass\n",
    "t"
   ]
  },
  {
   "cell_type": "code",
   "execution_count": 6,
   "metadata": {},
   "outputs": [
    {
     "data": {
      "text/plain": [
       "array([[-1.53911479, -5.67797366, -1.34624731,  2.41910957],\n",
       "       [-0.10276356, -4.27830212, -4.75610061,  0.33924531],\n",
       "       [ 8.94712316,  2.76303593, -0.33343371, -0.68864088],\n",
       "       [-8.46111715,  3.40506834, -2.61067125,  2.70546226],\n",
       "       [-3.94287847,  1.31966057,  3.87729187, -6.40285489]])"
      ]
     },
     "execution_count": 6,
     "metadata": {},
     "output_type": "execute_result"
    }
   ],
   "source": [
    "# the same as below\n",
    "(a3.T@b).T"
   ]
  },
  {
   "cell_type": "code",
   "execution_count": 7,
   "metadata": {},
   "outputs": [
    {
     "data": {
      "text/plain": [
       "array([[ True,  True,  True,  True],\n",
       "       [ True,  True,  True,  True],\n",
       "       [ True,  True,  True,  True],\n",
       "       [ True,  True,  True,  True],\n",
       "       [ True,  True,  True,  True]])"
      ]
     },
     "execution_count": 7,
     "metadata": {},
     "output_type": "execute_result"
    }
   ],
   "source": [
    "(a3.T@b).T == t"
   ]
  }
 ],
 "metadata": {
  "kernelspec": {
   "display_name": ".venv",
   "language": "python",
   "name": "python3"
  },
  "language_info": {
   "codemirror_mode": {
    "name": "ipython",
    "version": 3
   },
   "file_extension": ".py",
   "mimetype": "text/x-python",
   "name": "python",
   "nbconvert_exporter": "python",
   "pygments_lexer": "ipython3",
   "version": "3.10.11"
  },
  "orig_nbformat": 4
 },
 "nbformat": 4,
 "nbformat_minor": 2
}
