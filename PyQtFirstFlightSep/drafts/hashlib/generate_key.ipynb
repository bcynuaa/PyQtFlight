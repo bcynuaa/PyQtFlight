{
 "cells": [
  {
   "cell_type": "code",
   "execution_count": 1,
   "metadata": {},
   "outputs": [],
   "source": [
    "import hashlib\n",
    "import json"
   ]
  },
  {
   "cell_type": "code",
   "execution_count": 2,
   "metadata": {},
   "outputs": [],
   "source": [
    "encrypted_keys_filename: str = \"encrypted_keys.json\"\n",
    "users_dict: dict = {\n",
    "    \"guotongqing\": \"nuaa025317\",\n",
    "    \"zhoudi\": \"nuaa025315\",\n",
    "    \"baochenyu\": \"nuaa025219\",\n",
    "    \"601\": \"601024\"\n",
    "}"
   ]
  },
  {
   "cell_type": "code",
   "execution_count": 3,
   "metadata": {},
   "outputs": [],
   "source": [
    "encrypted_users_dict = {}\n",
    "for username in users_dict:\n",
    "    password: str = users_dict[username]\n",
    "    encrypted_users_dict[hashlib.sha224(username.encode(\"utf-8\")).hexdigest()] \\\n",
    "        = hashlib.sha256(password.encode(\"utf-8\")).hexdigest()\n",
    "    pass"
   ]
  },
  {
   "cell_type": "code",
   "execution_count": 4,
   "metadata": {},
   "outputs": [],
   "source": [
    "with open(\"encrypted_keys.json\", \"w\") as f:\n",
    "    json.dump(encrypted_users_dict, f, indent=4)\n",
    "    pass"
   ]
  },
  {
   "cell_type": "code",
   "execution_count": null,
   "metadata": {},
   "outputs": [],
   "source": []
  }
 ],
 "metadata": {
  "kernelspec": {
   "display_name": "Python 3",
   "language": "python",
   "name": "python3"
  },
  "language_info": {
   "codemirror_mode": {
    "name": "ipython",
    "version": 3
   },
   "file_extension": ".py",
   "mimetype": "text/x-python",
   "name": "python",
   "nbconvert_exporter": "python",
   "pygments_lexer": "ipython3",
   "version": "3.10.11"
  },
  "orig_nbformat": 4
 },
 "nbformat": 4,
 "nbformat_minor": 2
}
