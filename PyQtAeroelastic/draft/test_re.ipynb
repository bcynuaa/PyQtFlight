{
 "cells": [
  {
   "cell_type": "code",
   "execution_count": 18,
   "metadata": {},
   "outputs": [],
   "source": [
    "import re\n",
    "def stringToIndexList(string: str) -> list:\n",
    "    index_list: list = list()\n",
    "    num_pattern: re.Pattern = re.compile(r\"\\d+\")\n",
    "    num_range_pattern: re.Pattern = re.compile(r\"\\d+-\\d+\")\n",
    "    num_list: list = num_pattern.findall(string)\n",
    "    num_range_list: list = num_range_pattern.findall(string)\n",
    "    print(num_list)\n",
    "    print(num_range_list)\n",
    "    for item in num_list:\n",
    "        index_list.append(eval(item))\n",
    "        pass\n",
    "    print(index_list)\n",
    "    for item in num_range_list:\n",
    "        tmp_range_list: list = num_pattern.findall(item)\n",
    "        start_num: int = int(eval(tmp_range_list[0]))\n",
    "        end_num: int = int(eval(tmp_range_list[1]))\n",
    "        for index in range(start_num, end_num+1):\n",
    "            index_list.append(index)\n",
    "            pass\n",
    "        pass\n",
    "    index_list = list(set(index_list))\n",
    "    index_list.sort()\n",
    "    return index_list\n",
    "    pass"
   ]
  },
  {
   "cell_type": "code",
   "execution_count": 19,
   "metadata": {},
   "outputs": [],
   "source": [
    "test_str = \"3, 2, 1-12\""
   ]
  },
  {
   "cell_type": "code",
   "execution_count": 20,
   "metadata": {},
   "outputs": [
    {
     "name": "stdout",
     "output_type": "stream",
     "text": [
      "['3', '2', '1', '12']\n",
      "['1-12']\n",
      "[3, 2, 1, 12]\n"
     ]
    },
    {
     "data": {
      "text/plain": [
       "[1, 2, 3, 4, 5, 6, 7, 8, 9, 10, 11, 12]"
      ]
     },
     "execution_count": 20,
     "metadata": {},
     "output_type": "execute_result"
    }
   ],
   "source": [
    "stringToIndexList(test_str)"
   ]
  },
  {
   "cell_type": "code",
   "execution_count": null,
   "metadata": {},
   "outputs": [],
   "source": []
  }
 ],
 "metadata": {
  "kernelspec": {
   "display_name": ".venv",
   "language": "python",
   "name": "python3"
  },
  "language_info": {
   "codemirror_mode": {
    "name": "ipython",
    "version": 3
   },
   "file_extension": ".py",
   "mimetype": "text/x-python",
   "name": "python",
   "nbconvert_exporter": "python",
   "pygments_lexer": "ipython3",
   "version": "3.10.11"
  },
  "orig_nbformat": 4
 },
 "nbformat": 4,
 "nbformat_minor": 2
}
