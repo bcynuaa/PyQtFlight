{
 "cells": [
  {
   "cell_type": "code",
   "execution_count": 1,
   "metadata": {},
   "outputs": [],
   "source": [
    "class c1:\n",
    "    \n",
    "    def __init__(self):\n",
    "        self.t = 1\n",
    "        pass\n",
    "    \n",
    "    def setT(self, t):\n",
    "        self.t = t\n",
    "        pass\n",
    "    \n",
    "    def defineCompare(self, callback):\n",
    "        def compare():\n",
    "            tt = callback()\n",
    "            if self.t < tt:\n",
    "                self.t = tt\n",
    "                pass\n",
    "            pass\n",
    "        self.campare = compare\n",
    "        pass\n",
    "    \n",
    "    pass\n",
    "\n",
    "class c2:\n",
    "    \n",
    "    def __init__(self):\n",
    "        self.t_l = 3\n",
    "        self.c1l = c1()\n",
    "        self.c1l.setT(2)\n",
    "        self.c1r = c1()\n",
    "        self.c1r.setT(4)\n",
    "        self.c1l.defineCompare(self.callback)\n",
    "        self.c1r.defineCompare(self.callback)\n",
    "        pass\n",
    "    \n",
    "    def callback(self):\n",
    "        return self.t_l\n",
    "        pass\n",
    "    \n",
    "    pass"
   ]
  },
  {
   "cell_type": "code",
   "execution_count": 2,
   "metadata": {},
   "outputs": [],
   "source": [
    "c = c2()"
   ]
  },
  {
   "cell_type": "code",
   "execution_count": 3,
   "metadata": {},
   "outputs": [
    {
     "data": {
      "text/plain": [
       "2"
      ]
     },
     "execution_count": 3,
     "metadata": {},
     "output_type": "execute_result"
    }
   ],
   "source": [
    "c.c1l.t"
   ]
  },
  {
   "cell_type": "code",
   "execution_count": 4,
   "metadata": {},
   "outputs": [
    {
     "data": {
      "text/plain": [
       "4"
      ]
     },
     "execution_count": 4,
     "metadata": {},
     "output_type": "execute_result"
    }
   ],
   "source": [
    "c.c1r.t"
   ]
  },
  {
   "cell_type": "code",
   "execution_count": 5,
   "metadata": {},
   "outputs": [],
   "source": [
    "c.c1l.campare()\n",
    "c.c1r.campare()"
   ]
  },
  {
   "cell_type": "code",
   "execution_count": 6,
   "metadata": {},
   "outputs": [
    {
     "data": {
      "text/plain": [
       "3"
      ]
     },
     "execution_count": 6,
     "metadata": {},
     "output_type": "execute_result"
    }
   ],
   "source": [
    "c.c1l.t"
   ]
  },
  {
   "cell_type": "code",
   "execution_count": 7,
   "metadata": {},
   "outputs": [
    {
     "data": {
      "text/plain": [
       "4"
      ]
     },
     "execution_count": 7,
     "metadata": {},
     "output_type": "execute_result"
    }
   ],
   "source": [
    "c.c1r.t"
   ]
  },
  {
   "cell_type": "code",
   "execution_count": null,
   "metadata": {},
   "outputs": [],
   "source": []
  }
 ],
 "metadata": {
  "kernelspec": {
   "display_name": ".venv",
   "language": "python",
   "name": "python3"
  },
  "language_info": {
   "codemirror_mode": {
    "name": "ipython",
    "version": 3
   },
   "file_extension": ".py",
   "mimetype": "text/x-python",
   "name": "python",
   "nbconvert_exporter": "python",
   "pygments_lexer": "ipython3",
   "version": "3.10.11"
  },
  "orig_nbformat": 4
 },
 "nbformat": 4,
 "nbformat_minor": 2
}
