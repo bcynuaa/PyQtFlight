{
 "cells": [
  {
   "cell_type": "code",
   "execution_count": 1,
   "metadata": {},
   "outputs": [],
   "source": [
    "import numpy as np\n",
    "data_file: str = \"..//..//../TestData/ProjectFlightTest2/SimulationDatabase/simulation1.dat\""
   ]
  },
  {
   "cell_type": "code",
   "execution_count": 2,
   "metadata": {},
   "outputs": [],
   "source": [
    "database: np.ndarray = np.loadtxt(data_file, dtype=np.float64, skiprows=1)"
   ]
  },
  {
   "cell_type": "code",
   "execution_count": 3,
   "metadata": {},
   "outputs": [
    {
     "data": {
      "text/plain": [
       "array([[ 9.90424080e-04, -2.32045970e-01,  7.20529760e-03, ...,\n",
       "         2.68225600e-03, -5.12518570e-04, -1.20367582e-03],\n",
       "       [ 1.98084820e-03, -2.43129160e+02,  3.95211810e+02, ...,\n",
       "        -5.19543550e+00, -5.32757580e+01, -2.98831672e-01],\n",
       "       [ 2.97127230e-03, -2.27407590e+02,  2.67096200e+02, ...,\n",
       "        -5.16952360e+01,  2.33023800e+01, -8.96506025e-01],\n",
       "       ...,\n",
       "       [ 6.20698770e+00, -2.21180970e+03,  6.53057080e+00, ...,\n",
       "         1.05059710e+02,  2.39309240e+00, -1.08855651e+01],\n",
       "       [ 6.20797820e+00, -2.04503530e+03,  4.26400510e+01, ...,\n",
       "         1.00037600e+02,  9.42009540e+00, -1.00052284e+01],\n",
       "       [ 6.20896860e+00, -1.84191590e+03,  3.62743840e+01, ...,\n",
       "         8.44807480e+01,  1.72418360e+01, -9.08622940e+00]])"
      ]
     },
     "execution_count": 3,
     "metadata": {},
     "output_type": "execute_result"
    }
   ],
   "source": [
    "database"
   ]
  },
  {
   "cell_type": "code",
   "execution_count": 5,
   "metadata": {},
   "outputs": [
    {
     "name": "stdout",
     "output_type": "stream",
     "text": [
      " H9.5Ma0.94\n",
      "\n"
     ]
    },
    {
     "data": {
      "text/plain": [
       "' H9.5Ma0.94\\n'"
      ]
     },
     "execution_count": 5,
     "metadata": {},
     "output_type": "execute_result"
    }
   ],
   "source": [
    "# read the first line of the data file\n",
    "with open(data_file, \"r\") as f:\n",
    "    first_line: str = f.readline()\n",
    "    pass\n",
    "first_line"
   ]
  },
  {
   "cell_type": "code",
   "execution_count": 6,
   "metadata": {},
   "outputs": [],
   "source": [
    "import re"
   ]
  },
  {
   "cell_type": "code",
   "execution_count": 7,
   "metadata": {},
   "outputs": [
    {
     "data": {
      "text/plain": [
       "['9.5', '0.94']"
      ]
     },
     "execution_count": 7,
     "metadata": {},
     "output_type": "execute_result"
    }
   ],
   "source": [
    "# get the height and ma from the first line which is float\n",
    "pattern: str = r\"[-+]?\\d*\\.\\d+|\\d+\"\n",
    "first_line_list: list = re.findall(pattern, first_line)\n",
    "first_line_list"
   ]
  },
  {
   "cell_type": "code",
   "execution_count": null,
   "metadata": {},
   "outputs": [],
   "source": []
  }
 ],
 "metadata": {
  "kernelspec": {
   "display_name": ".venv",
   "language": "python",
   "name": "python3"
  },
  "language_info": {
   "codemirror_mode": {
    "name": "ipython",
    "version": 3
   },
   "file_extension": ".py",
   "mimetype": "text/x-python",
   "name": "python",
   "nbconvert_exporter": "python",
   "pygments_lexer": "ipython3",
   "version": "3.10.11"
  },
  "orig_nbformat": 4
 },
 "nbformat": 4,
 "nbformat_minor": 2
}
