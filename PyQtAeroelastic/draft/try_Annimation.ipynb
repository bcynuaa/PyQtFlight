{
 "cells": [
  {
   "cell_type": "code",
   "execution_count": 1,
   "metadata": {},
   "outputs": [
    {
     "name": "stdout",
     "output_type": "stream",
     "text": [
      "workspace directory included\n",
      "successfully set the global theme of pyvista.\n",
      "\n"
     ]
    }
   ],
   "source": [
    "from test_Header import *\n",
    "from src import ReadFile\n",
    "import copy"
   ]
  },
  {
   "cell_type": "code",
   "execution_count": 2,
   "metadata": {},
   "outputs": [
    {
     "name": "stdout",
     "output_type": "stream",
     "text": [
      "Multibloks type defied by generalized displacement data struct for Prof. Guo\n",
      "data path: ..//data//test_data//test_data1\n",
      "generalized displacement file: ..//data//test_data//test_data1\\m03n0089.dat\n",
      "pressure file: ..//data//test_data//test_data1\\Pressure.dat\n",
      "number of blocks: 18\n",
      "number of steps: 360\n",
      "total simulation time: 0.21113\n",
      "current step: 0\n",
      "current active scalar: Pressure\n",
      "displacement magnification: 50.0\n",
      "scalar span: {'dX': [0.0, 0.0], 'dY': [0.0, 0.0], 'dZ': [-2.1550726822577413e-05, 1.938558057881892e-05], 'Pressure': [0.92219002, 1.10911417]}\n",
      "unstractured grid information: UnstructuredGrid (0x2456ad994e0)\n",
      "  N Cells:    5000\n",
      "  N Points:   5716\n",
      "  X Bounds:   1.496e+01, 1.830e+01\n",
      "  Y Bounds:   1.900e+00, 4.198e+00\n",
      "  Z Bounds:   -1.956e-01, -4.198e-02\n",
      "  N Arrays:   4\n",
      "\n",
      "\n"
     ]
    }
   ],
   "source": [
    "test_data_file_path: str = \"..//data//test_data//test_data1\"\n",
    "mb = ReadFile.MultiBlocksByGenDis(test_data_file_path)\n",
    "print(mb)"
   ]
  },
  {
   "cell_type": "code",
   "execution_count": 3,
   "metadata": {},
   "outputs": [
    {
     "data": {
      "text/html": [
       "<table><tr><th>Header</th><th>Data Arrays</th></tr><tr><td>\n",
       "<table>\n",
       "<tr><th>UnstructuredGrid</th><th>Information</th></tr>\n",
       "<tr><td>N Cells</td><td>5000</td></tr>\n",
       "<tr><td>N Points</td><td>5716</td></tr>\n",
       "<tr><td>X Bounds</td><td>1.496e+01, 1.830e+01</td></tr>\n",
       "<tr><td>Y Bounds</td><td>1.900e+00, 4.198e+00</td></tr>\n",
       "<tr><td>Z Bounds</td><td>-1.956e-01, -4.198e-02</td></tr>\n",
       "<tr><td>N Arrays</td><td>4</td></tr>\n",
       "</table>\n",
       "\n",
       "</td><td>\n",
       "<table>\n",
       "<tr><th>Name</th><th>Field</th><th>Type</th><th>N Comp</th><th>Min</th><th>Max</th></tr>\n",
       "<tr><td>dX</td><td>Points</td><td>float64</td><td>1</td><td>0.000e+00</td><td>0.000e+00</td></tr>\n",
       "<tr><td>dY</td><td>Points</td><td>float64</td><td>1</td><td>0.000e+00</td><td>0.000e+00</td></tr>\n",
       "<tr><td>dZ</td><td>Points</td><td>float64</td><td>1</td><td>-1.687e-05</td><td>1.939e-05</td></tr>\n",
       "<tr><td><b>Pressure</b></td><td>Cells</td><td>float64</td><td>1</td><td>9.222e-01</td><td>1.109e+00</td></tr>\n",
       "</table>\n",
       "\n",
       "</td></tr> </table>"
      ],
      "text/plain": [
       "UnstructuredGrid (0x2456ad994e0)\n",
       "  N Cells:    5000\n",
       "  N Points:   5716\n",
       "  X Bounds:   1.496e+01, 1.830e+01\n",
       "  Y Bounds:   1.900e+00, 4.198e+00\n",
       "  Z Bounds:   -1.956e-01, -4.198e-02\n",
       "  N Arrays:   4"
      ]
     },
     "execution_count": 3,
     "metadata": {},
     "output_type": "execute_result"
    }
   ],
   "source": [
    "mb.unstructured_grid"
   ]
  },
  {
   "cell_type": "code",
   "execution_count": 4,
   "metadata": {},
   "outputs": [
    {
     "name": "stdout",
     "output_type": "stream",
     "text": [
      "Multibloks type defied by generalized displacement data struct for Prof. Guo\n",
      "data path: ..//data//test_data//test_data1\n",
      "generalized displacement file: ..//data//test_data//test_data1\\m03n0089.dat\n",
      "pressure file: ..//data//test_data//test_data1\\Pressure.dat\n",
      "number of blocks: 18\n",
      "number of steps: 360\n",
      "total simulation time: 0.21113\n",
      "current step: 0\n",
      "current active scalar: Pressure\n",
      "displacement magnification: 50.0\n",
      "scalar span: {'dX': [0.0, 0.0], 'dY': [0.0, 0.0], 'dZ': [-2.1550726822577413e-05, 1.938558057881892e-05], 'Pressure': [0.92219002, 1.10911417]}\n",
      "unstractured grid information: UnstructuredGrid (0x2456ad994e0)\n",
      "  N Cells:    5000\n",
      "  N Points:   5716\n",
      "  X Bounds:   1.496e+01, 1.830e+01\n",
      "  Y Bounds:   1.900e+00, 4.198e+00\n",
      "  Z Bounds:   -1.956e-01, -4.198e-02\n",
      "  N Arrays:   4\n",
      "\n",
      "\n"
     ]
    }
   ],
   "source": [
    "mb_copy = copy.copy(mb)\n",
    "mb_copy.setActivatedScalar(\"dZ\")\n",
    "mb_copy.setDisplacementMagnification(3000.0)\n",
    "test_annimation_mp4_file: str = \"..//image//test_image//test_annimation//test_annimation_1.mp4\"\n",
    "test_annimation_gif_file: str = \"..//image//test_image//test_annimation//test_annimation_1.gif\"\n",
    "print(mb)"
   ]
  },
  {
   "attachments": {},
   "cell_type": "markdown",
   "metadata": {},
   "source": [
    "# mp4"
   ]
  },
  {
   "cell_type": "code",
   "execution_count": 5,
   "metadata": {},
   "outputs": [
    {
     "name": "stdout",
     "output_type": "stream",
     "text": [
      "[(21.162148644705628, 7.578877320071075, 4.4110829596721315),\n",
      " (16.63227128982544, 3.0489999651908875, -0.1187943952080561),\n",
      " (0.0, 0.0, 1.0)]\n"
     ]
    }
   ],
   "source": [
    "plotter = pyvista.Plotter(notebook=False, off_screen=True)\n",
    "plotter.open_movie(test_annimation_mp4_file, framerate=50, quality=7)\n",
    "plotter.add_mesh(\n",
    "    mb_copy.unstructured_grid,\n",
    "    scalars=mb_copy.active_scalar,\n",
    "    clim=mb_copy.scalars_clim_dict[mb_copy.active_scalar]\n",
    ")\n",
    "plotter.write_frame()\n",
    "for j in range(mb_copy.n_steps):\n",
    "    mb_copy.setStepByIndex(j)\n",
    "    plotter.write_frame()\n",
    "    plotter.add_axes()\n",
    "    plotter.add_bounding_box()\n",
    "    pass\n",
    "print(plotter.camera_position)\n",
    "plotter.close()"
   ]
  },
  {
   "attachments": {},
   "cell_type": "markdown",
   "metadata": {},
   "source": [
    "# gif"
   ]
  },
  {
   "cell_type": "code",
   "execution_count": 6,
   "metadata": {},
   "outputs": [],
   "source": [
    "plotter = pyvista.Plotter(notebook=False, off_screen=True)\n",
    "plotter.open_gif(test_annimation_gif_file, fps=100)\n",
    "plotter.add_mesh(\n",
    "    mb_copy.unstructured_grid,\n",
    "    scalars=mb_copy.active_scalar,\n",
    "    clim=mb_copy.scalars_clim_dict[mb_copy.active_scalar]\n",
    ")\n",
    "plotter.write_frame()\n",
    "for j in range(mb_copy.n_steps):\n",
    "    mb_copy.setStepByIndex(j)\n",
    "    plotter.write_frame()\n",
    "    plotter.add_axes()\n",
    "    plotter.add_bounding_box()\n",
    "    pass\n",
    "plotter.close()"
   ]
  }
 ],
 "metadata": {
  "kernelspec": {
   "display_name": ".venv",
   "language": "python",
   "name": "python3"
  },
  "language_info": {
   "codemirror_mode": {
    "name": "ipython",
    "version": 3
   },
   "file_extension": ".py",
   "mimetype": "text/x-python",
   "name": "python",
   "nbconvert_exporter": "python",
   "pygments_lexer": "ipython3",
   "version": "3.10.11"
  },
  "orig_nbformat": 4
 },
 "nbformat": 4,
 "nbformat_minor": 2
}
