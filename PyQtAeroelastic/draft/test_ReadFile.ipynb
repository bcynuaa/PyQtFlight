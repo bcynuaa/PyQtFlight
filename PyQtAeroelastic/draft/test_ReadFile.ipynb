{
 "cells": [
  {
   "cell_type": "code",
   "execution_count": 1,
   "metadata": {},
   "outputs": [
    {
     "name": "stdout",
     "output_type": "stream",
     "text": [
      "workspace directory included\n",
      "successfully set the global theme of pyvista.\n",
      "\n"
     ]
    }
   ],
   "source": [
    "import numpy as np\n",
    "from test_Header import *\n",
    "import src.ReadFile as ReadFile"
   ]
  },
  {
   "cell_type": "code",
   "execution_count": 2,
   "metadata": {},
   "outputs": [],
   "source": [
    "test_data: str = \"..//data//test_data//test_data1\"\n",
    "\n",
    "mb: ReadFile.MultiBlocksByGenDis = ReadFile.MultiBlocksByGenDis(test_data, True)"
   ]
  },
  {
   "cell_type": "code",
   "execution_count": 3,
   "metadata": {},
   "outputs": [
    {
     "data": {
      "text/plain": [
       "Multibloks type defined by generalized displacement data struct for Prof. Guo\n",
       "data path: ..//data//test_data//test_data1\n",
       "generalized displacement file: ..//data//test_data//test_data1\\m03n0089.dat\n",
       "pressure file: ..//data//test_data//test_data1\\Pressure.dat\n",
       "number of blocks: 18\n",
       "number of steps: 360\n",
       "total simulation time: 0.21113\n",
       "current step: 0\n",
       "current active scalar: Pressure\n",
       "displacement magnification: 50.0\n",
       "scalar span: {'dX': [0.0, 0.0], 'dY': [0.0, 0.0], 'dZ': [-2.1550726822577413e-05, 1.938558057881892e-05], 'Pressure': [0.92219002, 1.10911417]}\n",
       "unstractured grid information: UnstructuredGrid (0x1f49a699540)\n",
       "  N Cells:    5000\n",
       "  N Points:   5716\n",
       "  X Bounds:   1.496e+01, 1.830e+01\n",
       "  Y Bounds:   1.900e+00, 4.198e+00\n",
       "  Z Bounds:   -1.956e-01, -4.198e-02\n",
       "  N Arrays:   4\n"
      ]
     },
     "execution_count": 3,
     "metadata": {},
     "output_type": "execute_result"
    }
   ],
   "source": [
    "mb"
   ]
  },
  {
   "cell_type": "code",
   "execution_count": 4,
   "metadata": {},
   "outputs": [
    {
     "data": {
      "text/plain": [
       "Multibloks type defined by generalized displacement data struct for Prof. Guo\n",
       "data path: ..//data//test_data//test_data1\n",
       "generalized displacement file: ..//data//test_data//test_data1\\m03n0089.dat\n",
       "pressure file: ..//data//test_data//test_data1\\Pressure.dat\n",
       "number of blocks: 18\n",
       "number of steps: 360\n",
       "total simulation time: 0.21113\n",
       "current step: 357\n",
       "current active scalar: dZ\n",
       "displacement magnification: 2000.0\n",
       "scalar span: {'dX': [0.0, 0.0], 'dY': [0.0, 0.0], 'dZ': [-2.1550726822577413e-05, 1.938558057881892e-05], 'Pressure': [0.92219002, 1.10911417]}\n",
       "unstractured grid information: UnstructuredGrid (0x1f49a699540)\n",
       "  N Cells:    5000\n",
       "  N Points:   5716\n",
       "  X Bounds:   1.496e+01, 1.830e+01\n",
       "  Y Bounds:   1.900e+00, 4.198e+00\n",
       "  Z Bounds:   -1.957e-01, -4.210e-02\n",
       "  N Arrays:   4\n"
      ]
     },
     "execution_count": 4,
     "metadata": {},
     "output_type": "execute_result"
    }
   ],
   "source": [
    "mb.setStepByTime(0.21)\n",
    "mb.setActivatedScalar(\"dZ\")\n",
    "mb.setDisplacementMagnification(2000.0)\n",
    "mb"
   ]
  },
  {
   "cell_type": "code",
   "execution_count": 5,
   "metadata": {},
   "outputs": [
    {
     "data": {
      "text/html": [
       "<table><tr><th>Header</th><th>Data Arrays</th></tr><tr><td>\n",
       "<table>\n",
       "<tr><th>UnstructuredGrid</th><th>Information</th></tr>\n",
       "<tr><td>N Cells</td><td>5000</td></tr>\n",
       "<tr><td>N Points</td><td>5716</td></tr>\n",
       "<tr><td>X Bounds</td><td>1.496e+01, 1.830e+01</td></tr>\n",
       "<tr><td>Y Bounds</td><td>1.900e+00, 4.198e+00</td></tr>\n",
       "<tr><td>Z Bounds</td><td>-1.957e-01, -4.210e-02</td></tr>\n",
       "<tr><td>N Arrays</td><td>4</td></tr>\n",
       "</table>\n",
       "\n",
       "</td><td>\n",
       "<table>\n",
       "<tr><th>Name</th><th>Field</th><th>Type</th><th>N Comp</th><th>Min</th><th>Max</th></tr>\n",
       "<tr><td>dX</td><td>Points</td><td>float64</td><td>1</td><td>0.000e+00</td><td>0.000e+00</td></tr>\n",
       "<tr><td>dY</td><td>Points</td><td>float64</td><td>1</td><td>0.000e+00</td><td>0.000e+00</td></tr>\n",
       "<tr><td><b>dZ</b></td><td>Points</td><td>float64</td><td>1</td><td>-5.532e-06</td><td>2.112e-06</td></tr>\n",
       "<tr><td>Pressure</td><td>Cells</td><td>float64</td><td>1</td><td>9.477e-01</td><td>1.059e+00</td></tr>\n",
       "</table>\n",
       "\n",
       "</td></tr> </table>"
      ],
      "text/plain": [
       "UnstructuredGrid (0x1f49a699540)\n",
       "  N Cells:    5000\n",
       "  N Points:   5716\n",
       "  X Bounds:   1.496e+01, 1.830e+01\n",
       "  Y Bounds:   1.900e+00, 4.198e+00\n",
       "  Z Bounds:   -1.957e-01, -4.210e-02\n",
       "  N Arrays:   4"
      ]
     },
     "execution_count": 5,
     "metadata": {},
     "output_type": "execute_result"
    }
   ],
   "source": [
    "mb.unstructured_grid"
   ]
  },
  {
   "cell_type": "code",
   "execution_count": 6,
   "metadata": {},
   "outputs": [
    {
     "data": {
      "application/vnd.jupyter.widget-view+json": {
       "model_id": "ca7c722b11d14213b4204c37f7221ff3",
       "version_major": 2,
       "version_minor": 0
      },
      "text/plain": [
       "Widget(value=\"<iframe src='http://localhost:56915/index.html?ui=P_0x1f499388850_0&reconnect=auto' style='width…"
      ]
     },
     "metadata": {},
     "output_type": "display_data"
    }
   ],
   "source": [
    "mb.unstructured_grid.plot()"
   ]
  },
  {
   "cell_type": "code",
   "execution_count": 8,
   "metadata": {},
   "outputs": [
    {
     "ename": "TypeError",
     "evalue": "unsupported operand type(s) for +: 'method' and 'str'",
     "output_type": "error",
     "traceback": [
      "\u001b[1;31m---------------------------------------------------------------------------\u001b[0m",
      "\u001b[1;31mTypeError\u001b[0m                                 Traceback (most recent call last)",
      "Cell \u001b[1;32mIn[8], line 1\u001b[0m\n\u001b[1;32m----> 1\u001b[0m \u001b[39mprint\u001b[39m(mb\u001b[39m.\u001b[39;49m\u001b[39m__str__\u001b[39;49m\u001b[39m+\u001b[39;49m\u001b[39m\"\u001b[39;49m\u001b[39m\\n\u001b[39;49;00m\u001b[39mtest\u001b[39;49m\u001b[39m\"\u001b[39;49m)\n",
      "\u001b[1;31mTypeError\u001b[0m: unsupported operand type(s) for +: 'method' and 'str'"
     ]
    }
   ],
   "source": [
    "print(mb.__str__()+\"\\ntest\")"
   ]
  },
  {
   "cell_type": "code",
   "execution_count": null,
   "metadata": {},
   "outputs": [],
   "source": []
  }
 ],
 "metadata": {
  "kernelspec": {
   "display_name": ".venv",
   "language": "python",
   "name": "python3"
  },
  "language_info": {
   "codemirror_mode": {
    "name": "ipython",
    "version": 3
   },
   "file_extension": ".py",
   "mimetype": "text/x-python",
   "name": "python",
   "nbconvert_exporter": "python",
   "pygments_lexer": "ipython3",
   "version": "3.10.11"
  },
  "orig_nbformat": 4
 },
 "nbformat": 4,
 "nbformat_minor": 2
}
